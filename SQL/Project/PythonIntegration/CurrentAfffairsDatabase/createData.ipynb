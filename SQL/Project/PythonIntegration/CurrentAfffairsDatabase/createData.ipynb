{
 "cells": [
  {
   "cell_type": "markdown",
   "metadata": {},
   "source": [
    "# Create data to be added in the project tables. \n"
   ]
  },
  {
   "cell_type": "code",
   "execution_count": null,
   "metadata": {},
   "outputs": [],
   "source": [
    "# Parameter to generate the number of rows to be entered into the table\n",
    "rows = 100 "
   ]
  },
  {
   "cell_type": "markdown",
   "metadata": {},
   "source": [
    "Using datasets downloaded from Kaggle and randomize to generate the rows required to enter. "
   ]
  },
  {
   "cell_type": "markdown",
   "metadata": {},
   "source": []
  },
  {
   "cell_type": "markdown",
   "metadata": {},
   "source": [
    "Generate fake names"
   ]
  },
  {
   "cell_type": "code",
   "execution_count": 7,
   "metadata": {},
   "outputs": [
    {
     "name": "stdout",
     "output_type": "stream",
     "text": [
      "Nitya Bumb\n",
      "Neysa Randhawa\n",
      "Jayesh Kale\n",
      "Madhup Bumb\n",
      "Hunar Warrior\n",
      "Anya De\n",
      "Tanya Srinivas\n",
      "Jhanvi Shan\n",
      "Lavanya Deo\n",
      "Hridaan Saha\n"
     ]
    }
   ],
   "source": [
    "from faker import Faker \n",
    "fake = Faker()\n",
    "fake.name()\n",
    "from faker import Faker\n",
    "\n",
    "fake = Faker(\"en_IN\")\n",
    "for _ in range(10):\n",
    "    print(fake.name())"
   ]
  },
  {
   "cell_type": "markdown",
   "metadata": {},
   "source": [
    "### Using historic news datasset to generate some data. "
   ]
  },
  {
   "cell_type": "code",
   "execution_count": 3,
   "metadata": {},
   "outputs": [
    {
     "data": {
      "text/html": [
       "<div>\n",
       "<style scoped>\n",
       "    .dataframe tbody tr th:only-of-type {\n",
       "        vertical-align: middle;\n",
       "    }\n",
       "\n",
       "    .dataframe tbody tr th {\n",
       "        vertical-align: top;\n",
       "    }\n",
       "\n",
       "    .dataframe thead th {\n",
       "        text-align: right;\n",
       "    }\n",
       "</style>\n",
       "<table border=\"1\" class=\"dataframe\">\n",
       "  <thead>\n",
       "    <tr style=\"text-align: right;\">\n",
       "      <th></th>\n",
       "      <th>source</th>\n",
       "      <th>category</th>\n",
       "      <th>link</th>\n",
       "      <th>author</th>\n",
       "      <th>published_at</th>\n",
       "      <th>header</th>\n",
       "      <th>subheader</th>\n",
       "      <th>content</th>\n",
       "    </tr>\n",
       "  </thead>\n",
       "  <tbody>\n",
       "    <tr>\n",
       "      <th>0</th>\n",
       "      <td>firstpost</td>\n",
       "      <td>india</td>\n",
       "      <td>https://www.firstpost.com/india/supreme-court-...</td>\n",
       "      <td>FP Staff</td>\n",
       "      <td>September 21, 2020 20:11:56 IST</td>\n",
       "      <td>Supreme Court, in anti-CAA blockade case, says...</td>\n",
       "      <td>While listening to a batch of petitions agains...</td>\n",
       "      <td>The Supreme Court on Monday said there cannot ...</td>\n",
       "    </tr>\n",
       "    <tr>\n",
       "      <th>1</th>\n",
       "      <td>firstpost</td>\n",
       "      <td>india</td>\n",
       "      <td>https://www.firstpost.com/india/rti-reponse-re...</td>\n",
       "      <td>Sumit Chaturvedi</td>\n",
       "      <td>September 20, 2020 10:02:10 IST</td>\n",
       "      <td>RTI reponse reveals over 18 lakh ration cards ...</td>\n",
       "      <td>The large backlog of pending ration card appli...</td>\n",
       "      <td>Lakhs of migrant workers who returned to their...</td>\n",
       "    </tr>\n",
       "    <tr>\n",
       "      <th>2</th>\n",
       "      <td>firstpost</td>\n",
       "      <td>india</td>\n",
       "      <td>https://www.firstpost.com/india/pilot-dies-as-...</td>\n",
       "      <td>Press Trust of India</td>\n",
       "      <td>September 21, 2020 15:32:17 IST</td>\n",
       "      <td>Pilot dies as four-seater training aircraft cr...</td>\n",
       "      <td>The aircraft, which belonged to the Indira Gan...</td>\n",
       "      <td>Azamgarh: A four-seater training aircraft cras...</td>\n",
       "    </tr>\n",
       "    <tr>\n",
       "      <th>3</th>\n",
       "      <td>firstpost</td>\n",
       "      <td>india</td>\n",
       "      <td>https://www.firstpost.com/india/hcl-technologi...</td>\n",
       "      <td>Press Trust of India</td>\n",
       "      <td>September 21, 2020 14:15:16 IST</td>\n",
       "      <td>HCL Technologies to acquire Australia’s DWS Lt...</td>\n",
       "      <td>DWS, with FY20 revenue at AUS $167.9 million, ...</td>\n",
       "      <td>New Delhi: HCL Technologies on Monday said it ...</td>\n",
       "    </tr>\n",
       "    <tr>\n",
       "      <th>4</th>\n",
       "      <td>firstpost</td>\n",
       "      <td>india</td>\n",
       "      <td>https://www.firstpost.com/india/parliament-mon...</td>\n",
       "      <td>FP Staff</td>\n",
       "      <td>September 22, 2020 10:42:06 IST</td>\n",
       "      <td>Parliament LIVE Updates: Pralhad Joshi says go...</td>\n",
       "      <td>Parliament LIVE Updates: Parliamentary Affair ...</td>\n",
       "      <td>Parliament LATEST Updates: Parliamentary Affai...</td>\n",
       "    </tr>\n",
       "  </tbody>\n",
       "</table>\n",
       "</div>"
      ],
      "text/plain": [
       "      source category                                               link  \\\n",
       "0  firstpost    india  https://www.firstpost.com/india/supreme-court-...   \n",
       "1  firstpost    india  https://www.firstpost.com/india/rti-reponse-re...   \n",
       "2  firstpost    india  https://www.firstpost.com/india/pilot-dies-as-...   \n",
       "3  firstpost    india  https://www.firstpost.com/india/hcl-technologi...   \n",
       "4  firstpost    india  https://www.firstpost.com/india/parliament-mon...   \n",
       "\n",
       "                 author                     published_at  \\\n",
       "0              FP Staff  September 21, 2020 20:11:56 IST   \n",
       "1      Sumit Chaturvedi  September 20, 2020 10:02:10 IST   \n",
       "2  Press Trust of India  September 21, 2020 15:32:17 IST   \n",
       "3  Press Trust of India  September 21, 2020 14:15:16 IST   \n",
       "4              FP Staff  September 22, 2020 10:42:06 IST   \n",
       "\n",
       "                                              header  \\\n",
       "0  Supreme Court, in anti-CAA blockade case, says...   \n",
       "1  RTI reponse reveals over 18 lakh ration cards ...   \n",
       "2  Pilot dies as four-seater training aircraft cr...   \n",
       "3  HCL Technologies to acquire Australia’s DWS Lt...   \n",
       "4  Parliament LIVE Updates: Pralhad Joshi says go...   \n",
       "\n",
       "                                           subheader  \\\n",
       "0  While listening to a batch of petitions agains...   \n",
       "1  The large backlog of pending ration card appli...   \n",
       "2  The aircraft, which belonged to the Indira Gan...   \n",
       "3  DWS, with FY20 revenue at AUS $167.9 million, ...   \n",
       "4  Parliament LIVE Updates: Parliamentary Affair ...   \n",
       "\n",
       "                                             content  \n",
       "0  The Supreme Court on Monday said there cannot ...  \n",
       "1  Lakhs of migrant workers who returned to their...  \n",
       "2  Azamgarh: A four-seater training aircraft cras...  \n",
       "3  New Delhi: HCL Technologies on Monday said it ...  \n",
       "4  Parliament LATEST Updates: Parliamentary Affai...  "
      ]
     },
     "execution_count": 3,
     "metadata": {},
     "output_type": "execute_result"
    }
   ],
   "source": [
    "import pandas as pd \n",
    "\n",
    "realNews = pd.read_csv(\"historicArticles.csv\")\n",
    "realNews.head()"
   ]
  },
  {
   "cell_type": "code",
   "execution_count": 9,
   "metadata": {},
   "outputs": [
    {
     "name": "stdout",
     "output_type": "stream",
     "text": [
      "['firstpost' 'ndtv']\n",
      "130\n"
     ]
    }
   ],
   "source": [
    "print(realNews.source.unique())\n",
    "print(len(realNews.author.unique()))"
   ]
  },
  {
   "cell_type": "code",
   "execution_count": null,
   "metadata": {},
   "outputs": [],
   "source": []
  }
 ],
 "metadata": {
  "kernelspec": {
   "display_name": "mlenv",
   "language": "python",
   "name": "python3"
  },
  "language_info": {
   "codemirror_mode": {
    "name": "ipython",
    "version": 3
   },
   "file_extension": ".py",
   "mimetype": "text/x-python",
   "name": "python",
   "nbconvert_exporter": "python",
   "pygments_lexer": "ipython3",
   "version": "3.11.4"
  }
 },
 "nbformat": 4,
 "nbformat_minor": 2
}
