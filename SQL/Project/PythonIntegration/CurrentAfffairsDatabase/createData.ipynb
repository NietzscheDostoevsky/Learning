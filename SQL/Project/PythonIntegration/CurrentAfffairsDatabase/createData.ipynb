{
 "cells": [
  {
   "cell_type": "markdown",
   "metadata": {},
   "source": [
    "# Create data to be added in the project tables. \n"
   ]
  },
  {
   "cell_type": "code",
   "execution_count": 1,
   "metadata": {},
   "outputs": [],
   "source": [
    "# Parameter to generate the number of rows to be entered into the table\n",
    "rows = 100 "
   ]
  },
  {
   "cell_type": "markdown",
   "metadata": {},
   "source": [
    "Using datasets downloaded from Kaggle and randomize to generate the rows required to enter. "
   ]
  },
  {
   "cell_type": "markdown",
   "metadata": {},
   "source": []
  },
  {
   "cell_type": "markdown",
   "metadata": {},
   "source": [
    "Generate fake names"
   ]
  },
  {
   "cell_type": "code",
   "execution_count": 2,
   "metadata": {},
   "outputs": [
    {
     "name": "stdout",
     "output_type": "stream",
     "text": [
      "Vritika Babu\n",
      "Onkar Kar\n",
      "Ivana Dave\n",
      "Nakul Dewan\n",
      "Misha Bali\n",
      "Pari Dhaliwal\n",
      "Hazel Deshmukh\n",
      "Aayush Bora\n",
      "Drishya Sura\n",
      "Bhamini Rege\n"
     ]
    }
   ],
   "source": [
    "\n",
    "from faker import Faker\n",
    "\n",
    "fake = Faker(\"en_IN\")\n",
    "for _ in range(10):\n",
    "    print(fake.name())"
   ]
  },
  {
   "cell_type": "markdown",
   "metadata": {},
   "source": [
    "### Using historic news datasset to generate some data. "
   ]
  },
  {
   "cell_type": "code",
   "execution_count": 3,
   "metadata": {},
   "outputs": [
    {
     "data": {
      "text/html": [
       "<div>\n",
       "<style scoped>\n",
       "    .dataframe tbody tr th:only-of-type {\n",
       "        vertical-align: middle;\n",
       "    }\n",
       "\n",
       "    .dataframe tbody tr th {\n",
       "        vertical-align: top;\n",
       "    }\n",
       "\n",
       "    .dataframe thead th {\n",
       "        text-align: right;\n",
       "    }\n",
       "</style>\n",
       "<table border=\"1\" class=\"dataframe\">\n",
       "  <thead>\n",
       "    <tr style=\"text-align: right;\">\n",
       "      <th></th>\n",
       "      <th>source</th>\n",
       "      <th>category</th>\n",
       "      <th>link</th>\n",
       "      <th>author</th>\n",
       "      <th>published_at</th>\n",
       "      <th>header</th>\n",
       "      <th>subheader</th>\n",
       "      <th>content</th>\n",
       "    </tr>\n",
       "  </thead>\n",
       "  <tbody>\n",
       "    <tr>\n",
       "      <th>0</th>\n",
       "      <td>firstpost</td>\n",
       "      <td>india</td>\n",
       "      <td>https://www.firstpost.com/india/supreme-court-...</td>\n",
       "      <td>FP Staff</td>\n",
       "      <td>September 21, 2020 20:11:56 IST</td>\n",
       "      <td>Supreme Court, in anti-CAA blockade case, says...</td>\n",
       "      <td>While listening to a batch of petitions agains...</td>\n",
       "      <td>The Supreme Court on Monday said there cannot ...</td>\n",
       "    </tr>\n",
       "    <tr>\n",
       "      <th>1</th>\n",
       "      <td>firstpost</td>\n",
       "      <td>india</td>\n",
       "      <td>https://www.firstpost.com/india/rti-reponse-re...</td>\n",
       "      <td>Sumit Chaturvedi</td>\n",
       "      <td>September 20, 2020 10:02:10 IST</td>\n",
       "      <td>RTI reponse reveals over 18 lakh ration cards ...</td>\n",
       "      <td>The large backlog of pending ration card appli...</td>\n",
       "      <td>Lakhs of migrant workers who returned to their...</td>\n",
       "    </tr>\n",
       "    <tr>\n",
       "      <th>2</th>\n",
       "      <td>firstpost</td>\n",
       "      <td>india</td>\n",
       "      <td>https://www.firstpost.com/india/pilot-dies-as-...</td>\n",
       "      <td>Press Trust of India</td>\n",
       "      <td>September 21, 2020 15:32:17 IST</td>\n",
       "      <td>Pilot dies as four-seater training aircraft cr...</td>\n",
       "      <td>The aircraft, which belonged to the Indira Gan...</td>\n",
       "      <td>Azamgarh: A four-seater training aircraft cras...</td>\n",
       "    </tr>\n",
       "    <tr>\n",
       "      <th>3</th>\n",
       "      <td>firstpost</td>\n",
       "      <td>india</td>\n",
       "      <td>https://www.firstpost.com/india/hcl-technologi...</td>\n",
       "      <td>Press Trust of India</td>\n",
       "      <td>September 21, 2020 14:15:16 IST</td>\n",
       "      <td>HCL Technologies to acquire Australia’s DWS Lt...</td>\n",
       "      <td>DWS, with FY20 revenue at AUS $167.9 million, ...</td>\n",
       "      <td>New Delhi: HCL Technologies on Monday said it ...</td>\n",
       "    </tr>\n",
       "    <tr>\n",
       "      <th>4</th>\n",
       "      <td>firstpost</td>\n",
       "      <td>india</td>\n",
       "      <td>https://www.firstpost.com/india/parliament-mon...</td>\n",
       "      <td>FP Staff</td>\n",
       "      <td>September 22, 2020 10:42:06 IST</td>\n",
       "      <td>Parliament LIVE Updates: Pralhad Joshi says go...</td>\n",
       "      <td>Parliament LIVE Updates: Parliamentary Affair ...</td>\n",
       "      <td>Parliament LATEST Updates: Parliamentary Affai...</td>\n",
       "    </tr>\n",
       "  </tbody>\n",
       "</table>\n",
       "</div>"
      ],
      "text/plain": [
       "      source category                                               link  \\\n",
       "0  firstpost    india  https://www.firstpost.com/india/supreme-court-...   \n",
       "1  firstpost    india  https://www.firstpost.com/india/rti-reponse-re...   \n",
       "2  firstpost    india  https://www.firstpost.com/india/pilot-dies-as-...   \n",
       "3  firstpost    india  https://www.firstpost.com/india/hcl-technologi...   \n",
       "4  firstpost    india  https://www.firstpost.com/india/parliament-mon...   \n",
       "\n",
       "                 author                     published_at  \\\n",
       "0              FP Staff  September 21, 2020 20:11:56 IST   \n",
       "1      Sumit Chaturvedi  September 20, 2020 10:02:10 IST   \n",
       "2  Press Trust of India  September 21, 2020 15:32:17 IST   \n",
       "3  Press Trust of India  September 21, 2020 14:15:16 IST   \n",
       "4              FP Staff  September 22, 2020 10:42:06 IST   \n",
       "\n",
       "                                              header  \\\n",
       "0  Supreme Court, in anti-CAA blockade case, says...   \n",
       "1  RTI reponse reveals over 18 lakh ration cards ...   \n",
       "2  Pilot dies as four-seater training aircraft cr...   \n",
       "3  HCL Technologies to acquire Australia’s DWS Lt...   \n",
       "4  Parliament LIVE Updates: Pralhad Joshi says go...   \n",
       "\n",
       "                                           subheader  \\\n",
       "0  While listening to a batch of petitions agains...   \n",
       "1  The large backlog of pending ration card appli...   \n",
       "2  The aircraft, which belonged to the Indira Gan...   \n",
       "3  DWS, with FY20 revenue at AUS $167.9 million, ...   \n",
       "4  Parliament LIVE Updates: Parliamentary Affair ...   \n",
       "\n",
       "                                             content  \n",
       "0  The Supreme Court on Monday said there cannot ...  \n",
       "1  Lakhs of migrant workers who returned to their...  \n",
       "2  Azamgarh: A four-seater training aircraft cras...  \n",
       "3  New Delhi: HCL Technologies on Monday said it ...  \n",
       "4  Parliament LATEST Updates: Parliamentary Affai...  "
      ]
     },
     "execution_count": 3,
     "metadata": {},
     "output_type": "execute_result"
    }
   ],
   "source": [
    "import pandas as pd \n",
    "\n",
    "realNews = pd.read_csv(\"historicArticles.csv\")\n",
    "realNews.head()"
   ]
  },
  {
   "cell_type": "code",
   "execution_count": 4,
   "metadata": {},
   "outputs": [
    {
     "name": "stdout",
     "output_type": "stream",
     "text": [
      "['firstpost' 'ndtv']\n",
      "130\n"
     ]
    }
   ],
   "source": [
    "print(realNews.source.unique())\n",
    "print(len(realNews.author.unique()))"
   ]
  },
  {
   "cell_type": "markdown",
   "metadata": {},
   "source": [
    "## Reference Schema"
   ]
  },
  {
   "cell_type": "markdown",
   "metadata": {},
   "source": [
    "![alt text](drawSQL-image-export-2024-04-05-1.png)"
   ]
  },
  {
   "cell_type": "markdown",
   "metadata": {},
   "source": [
    "### Creating and inserting data into the Authors table "
   ]
  },
  {
   "cell_type": "code",
   "execution_count": 24,
   "metadata": {},
   "outputs": [],
   "source": [
    "\n",
    "from faker import Faker\n",
    "Faker.seed(37)\n",
    "fake = Faker(\"en_IN\")\n",
    "authors = []\n",
    "for _ in range(37):\n",
    "    authorName = fake.name()\n",
    "    authorDescription = fake.text(500)\n",
    "    authors.append((authorName,authorDescription))\n",
    "\n",
    "import psycopg2\n",
    "from config import load_config\n",
    "config = load_config()\n",
    "conn = psycopg2.connect(**config) \n",
    "cur = conn.cursor()\n",
    "\n",
    "sql = \"\"\" INSERT INTO authors(author_name,author_desc)\n",
    "            VALUES (%s,%s) RETURNING author_id\"\"\"\n",
    "\n",
    "for authorName, authorDescription in authors:\n",
    "    cur.execute(sql, (authorName,authorDescription))\n",
    "    \n",
    "conn.commit()\n",
    "conn.close()\n"
   ]
  },
  {
   "cell_type": "markdown",
   "metadata": {},
   "source": [
    "#### Done successfully "
   ]
  },
  {
   "cell_type": "markdown",
   "metadata": {},
   "source": [
    "### Creating and inserting data into the Locations table "
   ]
  },
  {
   "cell_type": "code",
   "execution_count": 20,
   "metadata": {},
   "outputs": [],
   "source": [
    "from faker import Faker\n",
    "import psycopg2\n",
    "from config import load_config\n",
    "\n",
    "config = load_config()\n",
    "\n",
    "# Connect to PostgreSQL database\n",
    "conn = psycopg2.connect(**config)\n",
    "cur = conn.cursor()\n",
    "\n",
    "# Create Faker object with Indian locale\n",
    "Faker.seed(37)\n",
    "fake = Faker(\"en_IN\")\n",
    "\n",
    "# Generate location categories for Indian metro cities\n",
    "metro_cities = [\"Mumbai\", \"Delhi\", \"Bangalore\", \"Kolkata\", \"Chennai\", \"Hyderabad\"]\n",
    "\n",
    "# Additional location categories for India and world\n",
    "additional_categories = [\"India\", \"World\"]\n",
    "\n",
    "# Combine all categories\n",
    "location_categories = metro_cities + additional_categories\n",
    "\n",
    "# Generate sample location data\n",
    "sample_location_data = [\n",
    "    \"Capital city of Maharashtra\", \"Capital city of India\", \"Silicon Valley of India\", \n",
    "    \"City of Joy\", \"Gateway to South India\", \"City of Pearls\", \n",
    "    \"Country in South Asia\", \"Planet Earth\"\n",
    "]\n",
    "\n",
    "# SQL query to insert data into locations table\n",
    "sql = \"\"\"INSERT INTO locations(location, location_data)\n",
    "         VALUES (%s, %s) RETURNING location_id\"\"\"\n",
    "\n",
    "# Insert data into locations table\n",
    "for category, data in zip(location_categories, sample_location_data):\n",
    "    cur.execute(sql, (category, data))\n",
    "\n",
    "# Commit changes and close connection\n",
    "conn.commit()\n",
    "conn.close()\n"
   ]
  },
  {
   "cell_type": "markdown",
   "metadata": {},
   "source": [
    "### Creating the sources table "
   ]
  },
  {
   "cell_type": "code",
   "execution_count": 21,
   "metadata": {},
   "outputs": [],
   "source": [
    "from faker import Faker\n",
    "import psycopg2\n",
    "from config import load_config\n",
    "\n",
    "# Load configuration for database connection\n",
    "config = load_config()\n",
    "\n",
    "# Connect to PostgreSQL database\n",
    "conn = psycopg2.connect(**config)\n",
    "cur = conn.cursor()\n",
    "\n",
    "# Create Faker object with Indian locale\n",
    "Faker.seed(37)\n",
    "fake = Faker(\"en_IN\")\n",
    "\n",
    "# Sample Indian news sources\n",
    "indian_sources = [\n",
    "    (\"Times of India\", \"India's largest newspaper by circulation\", 4, 9),\n",
    "    (\"Hindustan Times\", \"One of the largest newspapers in India\", 4, 9),\n",
    "    (\"The Indian Express\", \"English-language Indian daily newspaper\", 4, 9),\n",
    "    (\"The Hindu\", \"English-language Indian daily newspaper\", 5, 9),\n",
    "    (\"NDTV\", \"New Delhi Television Limited\", 4, 9),\n",
    "    (\"India Today\", \"Indian weekly news magazine\", 4, 9),\n",
    "    (\"CNN-News18\", \"Indian English-language news television channel\", 3, 9),\n",
    "    (\"The Wire\", \"Indian news and opinion website\", 5, 9),\n",
    "    (\"Firstpost\", \"Indian news and media website\", 4, 9)\n",
    "]\n",
    "\n",
    "# SQL query to insert data into sources table\n",
    "sql = \"\"\"INSERT INTO sources(source_name, source_desc, source_bias, source_rating)\n",
    "         VALUES (%s, %s, %s, %s) RETURNING source_id\"\"\"\n",
    "\n",
    "# Insert data into sources table\n",
    "for source in indian_sources:\n",
    "    cur.execute(sql, source)\n",
    "\n",
    "# Commit changes and close connection\n",
    "conn.commit()\n",
    "conn.close()\n"
   ]
  },
  {
   "cell_type": "markdown",
   "metadata": {},
   "source": [
    "###  creating type table. "
   ]
  },
  {
   "cell_type": "code",
   "execution_count": 22,
   "metadata": {},
   "outputs": [],
   "source": [
    "from faker import Faker\n",
    "import psycopg2\n",
    "from config import load_config\n",
    "\n",
    "# Load configuration for database connection\n",
    "config = load_config()\n",
    "\n",
    "# Connect to PostgreSQL database\n",
    "conn = psycopg2.connect(**config)\n",
    "cur = conn.cursor()\n",
    "\n",
    "# Create Faker object\n",
    "fake = Faker()\n",
    "\n",
    "# Sample article types\n",
    "article_types = [\n",
    "    (\"Editorial\", \"An article expressing the opinion of the editor or editorial board of a publication.\"),\n",
    "    (\"Opinion\", \"A piece expressing the personal views or opinions of the author.\"),\n",
    "    (\"News\", \"A factual report on recent events or developments.\"),\n",
    "    (\"Feature\", \"An in-depth article focusing on a specific topic or subject.\"),\n",
    "    (\"Analysis\", \"An article providing a detailed examination or evaluation of a topic.\"),\n",
    "    (\"Interview\", \"A conversation between a journalist and a subject, typically for publication.\"),\n",
    "    (\"Review\", \"A critical assessment or evaluation of something, such as a book, movie, or product.\")\n",
    "]\n",
    "\n",
    "# SQL query to insert data into type table\n",
    "sql = \"\"\"INSERT INTO type(type, type_desc)\n",
    "         VALUES (%s, %s) RETURNING type_id\"\"\"\n",
    "\n",
    "# Insert data into type table\n",
    "for article_type in article_types:\n",
    "    cur.execute(sql, article_type)\n",
    "\n",
    "# Commit changes and close connection\n",
    "conn.commit()\n",
    "conn.close()\n"
   ]
  },
  {
   "cell_type": "markdown",
   "metadata": {},
   "source": [
    "### Creating languages table. "
   ]
  },
  {
   "cell_type": "code",
   "execution_count": 23,
   "metadata": {},
   "outputs": [],
   "source": [
    "from faker import Faker\n",
    "import psycopg2\n",
    "from config import load_config\n",
    "\n",
    "# Load configuration for database connection\n",
    "config = load_config()\n",
    "\n",
    "# Connect to PostgreSQL database\n",
    "conn = psycopg2.connect(**config)\n",
    "cur = conn.cursor()\n",
    "\n",
    "# Sample Indian languages along with English\n",
    "languages = [\n",
    "    (\"English\", \"A global language widely used used a default language for global communication\"),\n",
    "    (\"Hindi\", \"An Indo-Aryan language spoken chiefly in North India.\"),\n",
    "    (\"Bengali\", \"An Indo-Aryan language spoken in the eastern regions of the Indian subcontinent.\"),\n",
    "    (\"Telugu\", \"A Dravidian language spoken mainly in the Indian states of Andhra Pradesh and Telangana.\"),\n",
    "    (\"Marathi\", \"An Indo-Aryan language spoken predominantly by the Marathi people of Maharashtra, India.\"),\n",
    "    (\"Tamil\", \"A Dravidian language predominantly spoken by the Tamil people of India and Sri Lanka.\"),\n",
    "    (\"Urdu\", \"A Persianized and standardized register of the Hindustani language.\"),\n",
    "    (\"Gujarati\", \"An Indo-Aryan language native to the Indian state of Gujarat.\"),\n",
    "    (\"Kannada\", \"A Dravidian language spoken predominantly by the people of Karnataka in southwestern India.\"),\n",
    "    (\"Odia\", \"An Indo-Aryan language spoken predominantly by the people of Odisha in eastern India.\")\n",
    "]\n",
    "\n",
    "# SQL query to insert data into language table\n",
    "sql = \"\"\"INSERT INTO language(language, lang_desc)\n",
    "         VALUES (%s, %s) RETURNING lang_id\"\"\"\n",
    "\n",
    "# Insert data into language table\n",
    "for language in languages:\n",
    "    cur.execute(sql, language)\n",
    "\n",
    "# Commit changes and close connection\n",
    "conn.commit()\n",
    "conn.close()\n"
   ]
  },
  {
   "cell_type": "markdown",
   "metadata": {},
   "source": [
    "### Data for Category Table. "
   ]
  },
  {
   "cell_type": "code",
   "execution_count": 25,
   "metadata": {},
   "outputs": [],
   "source": [
    "from faker import Faker\n",
    "import psycopg2\n",
    "from config import load_config\n",
    "\n",
    "# Load configuration for database connection\n",
    "config = load_config()\n",
    "\n",
    "# Connect to PostgreSQL database\n",
    "conn = psycopg2.connect(**config)\n",
    "cur = conn.cursor()\n",
    "\n",
    "# Sample category names and descriptions\n",
    "categories = [\n",
    "    (\"Sports\", \"News related to sports events, athletes, and competitions.\"),\n",
    "    (\"Politics\", \"News related to government, political parties, and elections.\"),\n",
    "    (\"Science\", \"News related to scientific discoveries, research, and advancements.\"),\n",
    "    (\"Entertainment\", \"News related to movies, music, TV shows, and celebrities.\"),\n",
    "    (\"Business\", \"News related to economics, finance, and commerce.\"),\n",
    "    (\"Technology\", \"News related to innovations, gadgets, and technological developments.\"),\n",
    "    (\"Health\", \"News related to healthcare, medical treatments, and wellness.\"),\n",
    "    (\"Education\", \"News related to schools, colleges, and educational institutions.\"),\n",
    "    (\"Environment\", \"News related to ecology, climate change, and conservation.\"),\n",
    "    (\"Travel\", \"News related to tourism, destinations, and travel experiences.\")\n",
    "]\n",
    "\n",
    "# SQL query to insert data into category table\n",
    "sql = \"\"\"INSERT INTO category(category_name, category_desc)\n",
    "         VALUES (%s, %s) RETURNING category_id\"\"\"\n",
    "\n",
    "# Insert data into category table\n",
    "for category in categories:\n",
    "    cur.execute(sql, category)\n",
    "\n",
    "# Commit changes and close connection\n",
    "conn.commit()\n",
    "conn.close()\n"
   ]
  },
  {
   "cell_type": "markdown",
   "metadata": {},
   "source": [
    "### Userprofile table. "
   ]
  }
 ],
 "metadata": {
  "kernelspec": {
   "display_name": "mlenv",
   "language": "python",
   "name": "python3"
  },
  "language_info": {
   "codemirror_mode": {
    "name": "ipython",
    "version": 3
   },
   "file_extension": ".py",
   "mimetype": "text/x-python",
   "name": "python",
   "nbconvert_exporter": "python",
   "pygments_lexer": "ipython3",
   "version": "3.12.2"
  }
 },
 "nbformat": 4,
 "nbformat_minor": 2
}
